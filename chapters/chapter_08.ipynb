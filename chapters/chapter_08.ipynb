{
 "cells": [
  {
   "cell_type": "markdown",
   "id": "d35ee9ad",
   "metadata": {
    "id": "Eu9Vr2gEDjGD"
   },
   "source": [
    "#   8. Discovered a suite of classical time series forecasting methods"
   ]
  },
  {
   "cell_type": "markdown",
   "id": "6e32791a",
   "metadata": {
    "id": "qDQNox8FQ33j"
   },
   "source": [
    "## 8.1 Time Series Forecasting\n",
    "Making predictions about the future is called extrapolation in the classical statistical handling of time series data.\n",
    "\n",
    "More modern fields focus on the topic and refer to it as time series forecasting.\n",
    "\n",
    "Forecasting involves taking models fit on historical data and using them to predict future observations.\n",
    "\n",
    "Descriptive models can borrow for the future (i.e. to smooth or remove noise), they only seek to best describe the data.\n",
    "\n",
    "An important distinction in forecasting is that the future is completely unavailable and must only be estimated from what has already happened.\n",
    "\n",
    "  *  \"*The purpose of time series analysis is generally twofold: to understand or model the stochastic mechanisms that gives rise to an observed series and to predict or forecast the future values of a series based on the history of that series*\" [ref](https://amzn.to/30WU9Cj)\n",
    "\n",
    "\n",
    "The skill of a time series forecasting model is determined by *its performance at predicting the future*. This is often at the expense of being able to explain why a specific prediction was made, confidence intervals and even better understanding the underlying causes behind the problem.\n",
    "\n"
   ]
  },
  {
   "cell_type": "markdown",
   "id": "3125ac07",
   "metadata": {
    "id": "nYGz5kJcUoTE"
   },
   "source": [
    "## 8.2 Concerns of Forecasting\n",
    "When forecasting, it is important to understand your goal. for example:\n",
    "\n",
    "\n",
    "\n",
    "1.   **How much data do you have available and are you able to gather it all together?** More data is often more helpful, offering greater opportunity for exploratory data analysis, model testing and tuning, and model fidelity.\n",
    "2. **What is the time horizon of predictions that is required? Short, medium or long term?** Shorter time horizons are often easier to predict with higher confidence.\n",
    "3. **Can forecasts be updated frequently over time or must they be made once and remain static?** Updating forecasts as new information becomes available often results in more accurate predictions.\n",
    "\n",
    "4. **At what temporal frequency are forecasts required?** Often forecasts can be made at a lower or higher frequencies, allowing you to harness down-sampling, and up-sampling of data, which in turn can offer benefits while modeling.\n",
    "\n",
    "\n"
   ]
  },
  {
   "cell_type": "markdown",
   "id": "c0a04784",
   "metadata": {
    "id": "44_11KJzV5FA"
   },
   "source": [
    "## 8.3 Examples of Time Series Forecasting\n",
    "There is almost an endless supply of time series forecasting problems.\n",
    "\n",
    "Below are 10 examples from a range of industries to make the notions of time series analysis and forecasting more concrete.\n",
    "\n",
    "* Forecasting the corn yield in tons by state each year.\n",
    "* Forecasting whether an EEG trace in seconds indicates a patient is having a seizure or not.\n",
    "* Forecasting the closing price of a stock each day.\n",
    "* Forecasting the birth rate at all hospitals in a city each year.\n",
    "* Forecasting product sales in units sold each day for a store.\n",
    "* Forecasting the number of passengers through a train station each day.\n",
    "* Forecasting unemployment for a state each quarter.\n",
    "* Forecasting utilization demand on a server each hour.\n",
    "* Forecasting the size of the rabbit population in a state each breeding season.\n",
    "* Forecasting the average price of gasoline in a city each day.\n",
    "\n",
    "I expect that you will be able to relate one or more of these examples to your own time series forecasting problems that you would like to address"
   ]
  },
  {
   "cell_type": "markdown",
   "id": "6dce7ddb",
   "metadata": {
    "id": "-rQUNbm0YqH9"
   },
   "source": [
    "## 8.4 Classical time series forecasting methods\n",
    "\n",
    "This cheat sheet demonstrates 11 different classical time series forecasting methods. they are:\n",
    "\n",
    "1. Autoregression (**AR**)\n",
    "2. Moving Average (**MA**)\n",
    "3. Autoregressive Moving Average (**ARMA**)\n",
    "4. Autoregressive Integrated Moving Average (**ARIMA**)\n",
    "5. Seasonal Autoregressive Integrated Moving-Average (**SARIMA**)\n",
    "6. Seasonal Autoregressive Integrated Moving-Average with Exogenous Regressors (**SARIMAX**)\n",
    "7. Vector Autoregression (**VAR**)\n",
    "8. Vector Autoregression Moving-Average (**VARMA**)\n",
    "9. Vector Autoregression Moving-Average with Exogenous Regressors (**VARMAX**)\n",
    "10. Simple Exponential Smoothing (**SES**)\n",
    "11. Holt Winter’s Exponential Smoothing (**HWES**)\n",
    "\n"
   ]
  }
 ],
 "metadata": {},
 "nbformat": 4,
 "nbformat_minor": 5
}
